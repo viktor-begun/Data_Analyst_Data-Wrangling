{
 "cells": [
  {
   "cell_type": "markdown",
   "metadata": {},
   "source": [
    "# A short report for the Wrangle and Analyze Data project from [Udacity](https://www.udacity.com/)"
   ]
  },
  {
   "cell_type": "markdown",
   "metadata": {},
   "source": [
    "The task of the project was to practice data gathering, cleaning, and analysis using the data produced by Twitter account [**WeRateDogs**](https://en.wikipedia.org/wiki/WeRateDogs). This account rates funny pictures with dogs and makes a humorous comment about it."
   ]
  },
  {
   "cell_type": "markdown",
   "metadata": {},
   "source": [
    "There are expected findings like the one that people retweet the pictures that they like and tend to \"like\" ofter than retweet. The study shows that for the WeRateDogs 'more often' means 3-5 times more. The most amount of tweets has a little number of retweets and \"likes\", while some of them go viral and get 100 times more retweets and \"likes\"."
   ]
  },
  {
   "cell_type": "markdown",
   "metadata": {},
   "source": [
    "<img src=\"favorite_count_distributions.png\" width=\"100%\">"
   ]
  },
  {
   "cell_type": "markdown",
   "metadata": {},
   "source": [
    "The unclasified tweets distribution has two peaks, which indicates that there is a group of images, which are much more popular than the rest."
   ]
  },
  {
   "cell_type": "markdown",
   "metadata": {},
   "source": [
    "A funny finding is that WeRateDogs rarely uses it's own classification of dog \"stages\": `pupper`, `doggo`, `puppo` and `floofer`. The most number of pictures (1963) is not classified. The ratio of the number of `pupper`'s, `doggo`'s, `puppo`'s and `floofer`'s to each other is approximately 3. There are 3 times more `pupper`'s than `doggo`'s, and three times more `doggo`'s than `puppo`'s. The dog 'stage' `floofer` appeared only 8 times, which is only 0.4% from the total number of analyzed tweets. "
   ]
  },
  {
   "cell_type": "markdown",
   "metadata": {},
   "source": [
    "A neural network used by Udacity sometimes failes to recognize a dog, why an eye sees it, like [here](https://pbs.twimg.com/media/DBW35ZsVoAEWZUU.jpg)."
   ]
  },
  {
   "cell_type": "markdown",
   "metadata": {},
   "source": [
    "The rating given by the account, the length of the description text, day of the week, etc., almost do not influence the popularity of a tweet. The `pupper` on average is as popular as an unclassified tweet, while `doggo`, `puppo` and `floofer` are more popular. It suggests that the popularity is driven by the figures themselves. If the figure is popular, then it get's the \"stage\" name, which does not matter, if it is `pupper`, and is significantly better, when it is either `doggo`, `puppo` or `floofer`."
   ]
  }
 ],
 "metadata": {
  "kernelspec": {
   "display_name": "Python 3",
   "language": "python",
   "name": "python3"
  },
  "language_info": {
   "codemirror_mode": {
    "name": "ipython",
    "version": 3
   },
   "file_extension": ".py",
   "mimetype": "text/x-python",
   "name": "python",
   "nbconvert_exporter": "python",
   "pygments_lexer": "ipython3",
   "version": "3.7.3"
  }
 },
 "nbformat": 4,
 "nbformat_minor": 2
}
